{
  "nbformat": 4,
  "nbformat_minor": 0,
  "metadata": {
    "colab": {
      "provenance": [],
      "authorship_tag": "ABX9TyN7Q69KDCzHfYhgaZoYX5yI",
      "include_colab_link": true
    },
    "kernelspec": {
      "name": "python3",
      "display_name": "Python 3"
    },
    "language_info": {
      "name": "python"
    }
  },
  "cells": [
    {
      "cell_type": "markdown",
      "metadata": {
        "id": "view-in-github",
        "colab_type": "text"
      },
      "source": [
        "<a href=\"https://colab.research.google.com/github/Consolucas/DesafiosAnaliseDados/blob/main/AluraNumPyDesafio.ipynb\" target=\"_parent\"><img src=\"https://colab.research.google.com/assets/colab-badge.svg\" alt=\"Open In Colab\"/></a>"
      ]
    },
    {
      "cell_type": "code",
      "execution_count": null,
      "metadata": {
        "id": "3OaTlPLQ-UcC"
      },
      "outputs": [],
      "source": [
        "import numpy as np"
      ]
    },
    {
      "cell_type": "code",
      "source": [
        "url = 'https://raw.githubusercontent.com/allanspadini/numpy/dados/citrus.csv'"
      ],
      "metadata": {
        "id": "CBsPiNR5ApLB"
      },
      "execution_count": null,
      "outputs": []
    },
    {
      "cell_type": "code",
      "source": [
        "dado = np.loadtxt(fname=url, delimiter=',', skiprows=1, usecols=np.arange(1,6,1))"
      ],
      "metadata": {
        "id": "0hlRSg2OAuR-"
      },
      "execution_count": null,
      "outputs": []
    },
    {
      "cell_type": "code",
      "source": [
        "dado"
      ],
      "metadata": {
        "id": "XDc2tL5FC7ZU"
      },
      "execution_count": null,
      "outputs": []
    },
    {
      "cell_type": "code",
      "source": [
        "dado.shape"
      ],
      "metadata": {
        "id": "uP-8y5ySC79d"
      },
      "execution_count": null,
      "outputs": []
    },
    {
      "cell_type": "code",
      "source": [
        "laranja = dado[0:5000]\n",
        "laranja"
      ],
      "metadata": {
        "id": "BWAT8MRTvQE_"
      },
      "execution_count": null,
      "outputs": []
    },
    {
      "cell_type": "code",
      "source": [
        "toranja = dado[5000:10000]\n",
        "toranja"
      ],
      "metadata": {
        "collapsed": true,
        "id": "1ll6QQyxviKb"
      },
      "execution_count": null,
      "outputs": []
    },
    {
      "cell_type": "code",
      "source": [
        "diametro_laranja = laranja[:,0]\n",
        "peso_laranja = laranja[:,1]\n",
        "diametro_toranja = toranja[:,0]\n",
        "peso_toranja = toranja[:,1]"
      ],
      "metadata": {
        "id": "APHtLxl6vrjI"
      },
      "execution_count": null,
      "outputs": []
    },
    {
      "cell_type": "code",
      "source": [
        "import matplotlib.pyplot as plt"
      ],
      "metadata": {
        "id": "OHwwxglZvzJc"
      },
      "execution_count": null,
      "outputs": []
    },
    {
      "cell_type": "code",
      "source": [
        "diametro_laranja = dado[:5000,0]\n",
        "diametro_toranja = dado[5000:,0]\n",
        "peso_laranja = dado[:5000,1]\n",
        "peso_toranja = dado[5000:,1]"
      ],
      "metadata": {
        "id": "G28UezGnwgZN"
      },
      "execution_count": null,
      "outputs": []
    },
    {
      "cell_type": "code",
      "source": [
        "plt.plot(diametro_laranja, peso_laranja)\n",
        "plt.plot(diametro_toranja, peso_toranja)\n",
        "plt.legend(['laranja', 'toranja'])"
      ],
      "metadata": {
        "id": "bm4vWZpVwYYz"
      },
      "execution_count": null,
      "outputs": []
    },
    {
      "cell_type": "code",
      "source": [
        "# regressão linear\n",
        "Y = peso_laranja\n",
        "X = diametro_laranja\n",
        "n = np.size(X)\n",
        "\n",
        "# coeficiente angular\n",
        "a = (n*np.sum(X*Y) - np.sum(X)*np.sum(Y))/(n*np.sum(X**2)-np.sum(X)**2)\n",
        "#coeficiente linear\n",
        "b = np.mean(Y) - a*np.mean(X)\n",
        "\n",
        "x = diametro_laranja\n",
        "y = a*X + b"
      ],
      "metadata": {
        "id": "0ObUPOlE6Imy"
      },
      "execution_count": null,
      "outputs": []
    },
    {
      "cell_type": "code",
      "source": [
        "plt.plot(x,y)\n",
        "plt.plot(diametro_laranja, peso_laranja)"
      ],
      "metadata": {
        "id": "1NqOuo7875Oe"
      },
      "execution_count": null,
      "outputs": []
    }
  ]
}