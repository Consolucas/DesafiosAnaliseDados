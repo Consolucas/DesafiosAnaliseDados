{
  "nbformat": 4,
  "nbformat_minor": 0,
  "metadata": {
    "colab": {
      "provenance": [],
      "toc_visible": true,
      "mount_file_id": "1XGlEXqHMCgCQk3o95MI6X1lYurRvbaFk",
      "authorship_tag": "ABX9TyPNvKKhEPvW6ZXFQIkrgNe+",
      "include_colab_link": true
    },
    "kernelspec": {
      "name": "python3",
      "display_name": "Python 3"
    },
    "language_info": {
      "name": "python"
    }
  },
  "cells": [
    {
      "cell_type": "markdown",
      "metadata": {
        "id": "view-in-github",
        "colab_type": "text"
      },
      "source": [
        "<a href=\"https://colab.research.google.com/github/Consolucas/DesafiosAnaliseDados/blob/main/PandasManipulacaoDesafio.ipynb\" target=\"_parent\"><img src=\"https://colab.research.google.com/assets/colab-badge.svg\" alt=\"Open In Colab\"/></a>"
      ]
    },
    {
      "cell_type": "markdown",
      "source": [
        "Chegou a hora de pôr em prática tudo o que aprendemos durante as aulas. Preparei dois projetos extras para desenvolvermos durante o curso, para garantir que possamos praticar bastante! Para isso, vamos trabalhar com 2 novos conjuntos de dados, mas que dessa vez serão bem menores. As bases de dados estão disponíveis para download abaixo:\n",
        "\n",
        "Projeto desafio 1: vendas online - dados_vendas_clientes.json;\n",
        "Projeto desafio 2: administração de condomínios - dados_locacao_imoveis.json.\n",
        "Em cada aula, desenvolveremos uma etapa dos projetos. Portanto, salve seu código de construção em cada desafio para que possa aplicá-lo nos desafios posteriores."
      ],
      "metadata": {
        "id": "ASSec1gRfGxv"
      }
    },
    {
      "cell_type": "markdown",
      "source": [
        "# Desafio 1"
      ],
      "metadata": {
        "id": "QvI0Uol6fL-f"
      }
    },
    {
      "cell_type": "markdown",
      "source": [
        "O objetivo desse projeto é realizar uma análise dos resultados de um evento com os clientes de uma empresa de vendas online. Foi coletado um conjunto de dados que contém os clientes que mais gastaram com produtos dentro de 5 dias de vendas, que é o período de duração do evento. Essa análise vai identificar o cliente com a maior compra na semana, que irá receber um prêmio da loja, e posteriormente, ela pode ajudar a empresa a criar novas estratégias para atrair mais clientes.\n",
        "\n",
        "A base de dados utilizada nessa análise é a dados_vendas_clientes.json e contém informações importantes sobre os clientes como, o nome de cadastro do cliente, o valor total pago na compra e o dia da compra.\n",
        "\n",
        "Sabendo essas informações, o desafio do projeto 1: vendas online será abrir a base de dados com Pandas e aplicar o json_normalize."
      ],
      "metadata": {
        "id": "KpvJS6ThfOo0"
      }
    },
    {
      "cell_type": "code",
      "execution_count": null,
      "metadata": {
        "id": "6iXwP15teeWc"
      },
      "outputs": [],
      "source": [
        "import pandas as pd"
      ]
    },
    {
      "cell_type": "code",
      "source": [
        "df = pd.read_json('/content/drive/MyDrive/AluraOne/PandasManipulacao/dados_vendas_clientes.json')"
      ],
      "metadata": {
        "id": "rJliidYTgKL_"
      },
      "execution_count": null,
      "outputs": []
    },
    {
      "cell_type": "code",
      "source": [
        "df.head()"
      ],
      "metadata": {
        "id": "t4PoaBDEgY-g"
      },
      "execution_count": null,
      "outputs": []
    },
    {
      "cell_type": "code",
      "source": [
        "dados = pd.json_normalize(df['dados_vendas'])\n",
        "dados.head()"
      ],
      "metadata": {
        "id": "jXGfEVnugaTI"
      },
      "execution_count": null,
      "outputs": []
    },
    {
      "cell_type": "code",
      "source": [
        "dados_tratados_vendas = dados.explode(['Cliente', 'Valor da compra']).reset_index(drop=True)\n",
        "dados_tratados_vendas\n",
        "#explode funciona unindo as duas listas, em linhas\n",
        "#reset_inext(drop=True) remove os índex"
      ],
      "metadata": {
        "id": "zOLTZ_lMgh7f"
      },
      "execution_count": null,
      "outputs": []
    },
    {
      "cell_type": "code",
      "source": [],
      "metadata": {
        "id": "bNnr0YdkkxDi"
      },
      "execution_count": null,
      "outputs": []
    },
    {
      "cell_type": "markdown",
      "source": [
        "# Desafio 2"
      ],
      "metadata": {
        "id": "GXkpIJ4ooGMI"
      }
    },
    {
      "cell_type": "markdown",
      "source": [
        "A administração de condomínios é uma tarefa que requer muita atenção e organização. Entre as diversas responsabilidades da gestão está o recebimento dos aluguéis dos locatários. Para garantir uma boa saúde financeira do empreendimento, é fundamental que esses pagamentos sejam feitos de forma regular e pontual. No entanto, sabemos que nem sempre isso acontece.\n",
        "\n",
        "Pensando nisso, proponho um desafio de tratamento de dados com o objetivo de analisar o atraso no pagamento de aluguéis no condomínio de alguns moradores. Disponibilizo a base de dados dados_locacao_imoveis.json, que contém informações sobre o apartamento dos locatários, o dia acordado para o pagamento do aluguel, o dia da efetivação do pagamento de aluguel e o valor do aluguel.\n",
        "\n",
        "Com essas informações, o desafio do projeto 2: administração de condomínios será similar ao desafio do projeto 1, abrir a base de dados com Pandas e aplicar o json_normalize no DataFrame.\n"
      ],
      "metadata": {
        "id": "fVo3ZU-poInB"
      }
    },
    {
      "cell_type": "code",
      "source": [
        "df = pd.read_json('/content/drive/MyDrive/AluraOne/PandasManipulacao/dados_locacao_imoveis.json')\n",
        "df.head()"
      ],
      "metadata": {
        "id": "4-E1NjaIoIA8"
      },
      "execution_count": null,
      "outputs": []
    },
    {
      "cell_type": "code",
      "source": [
        "dados = pd.json_normalize(df['dados_locacao'])\n",
        "dados.head()"
      ],
      "metadata": {
        "id": "UlTjMCOwoTfX"
      },
      "execution_count": null,
      "outputs": []
    },
    {
      "cell_type": "code",
      "source": [
        "colunas = list(dados.columns)\n",
        "colunas"
      ],
      "metadata": {
        "id": "sIFL_5_FvsJF"
      },
      "execution_count": null,
      "outputs": []
    },
    {
      "cell_type": "code",
      "source": [
        "dados_tratados_locacao = dados.explode(colunas[1:]).reset_index(drop=True)\n",
        "dados_tratados_locacao"
      ],
      "metadata": {
        "id": "MgU_SWwVvm82"
      },
      "execution_count": null,
      "outputs": []
    },
    {
      "cell_type": "markdown",
      "source": [
        "# Desafio 3"
      ],
      "metadata": {
        "id": "cOrDZ2sZvCon"
      }
    },
    {
      "cell_type": "markdown",
      "source": [
        "Projeto desafio 1: vendas online\n",
        "Lemos a base de dados no desafio anterior, agora podemos avançar nas transformações desses dados. Então, o novo desafio do projeto 1 será dividido em algumas metas:\n",
        "\n",
        "Remover os dados em listas dentro do DataFrame;\n",
        "\n",
        "Verificar os tipos de dados;\n",
        "\n",
        "Identificar colunas numéricas;\n",
        "\n",
        "Transformar a coluna numérica para o tipo numérico."
      ],
      "metadata": {
        "id": "-FLne0wkvIpH"
      }
    },
    {
      "cell_type": "code",
      "source": [
        "dados_tratados_vendas.info()"
      ],
      "metadata": {
        "id": "11DL7b0qvSli"
      },
      "execution_count": null,
      "outputs": []
    },
    {
      "cell_type": "code",
      "source": [
        "dados_tratados_vendas['Valor da compra'] = dados_tratados_vendas['Valor da compra'].apply(lambda x: x.replace('R$', '').replace(',', '.').strip()).astype(float)\n",
        "dados_tratados_vendas['Valor da compra']"
      ],
      "metadata": {
        "id": "fnTlh8igwPJ7"
      },
      "execution_count": null,
      "outputs": []
    },
    {
      "cell_type": "markdown",
      "source": [
        "Projeto desafio 2: administração de condomínios\n",
        "Lemos a base de dados no desafio anterior, agora podemos avançar nas transformações desses dados. Então, da mesma forma que o projeto 1, o desafio do projeto 2 está listado em algumas metas:\n",
        "\n",
        "Remover os dados em listas dentro do DataFrame;\n",
        "\n",
        "Verificar os tipos de dados;\n",
        "\n",
        "Identificar colunas numéricas;\n",
        "\n",
        "Transformar a coluna numérica para o tipo numérico."
      ],
      "metadata": {
        "id": "SaezTyaZxNJB"
      }
    },
    {
      "cell_type": "code",
      "source": [
        "dados_tratados_locacao.info()"
      ],
      "metadata": {
        "id": "uW82nEHEwqjv"
      },
      "execution_count": null,
      "outputs": []
    },
    {
      "cell_type": "code",
      "source": [
        "dados_tratados_locacao['valor_aluguel'] = dados_tratados_locacao['valor_aluguel'].apply(lambda x: x.replace('$', '').replace(',', '.').replace('reais', '').strip()).astype(float)\n",
        "dados_tratados_locacao['valor_aluguel']"
      ],
      "metadata": {
        "id": "2jjE_xc-w1Tl"
      },
      "execution_count": null,
      "outputs": []
    },
    {
      "cell_type": "markdown",
      "source": [
        "# Desafio 4"
      ],
      "metadata": {
        "id": "AkRTORCVCsja"
      }
    },
    {
      "cell_type": "markdown",
      "source": [
        "Projeto desafio 1: vendas online\n",
        "Na etapa 2, trabalhamos na transformação dos dados numéricos. Agora, podemos trabalhar com valores textuais.\n",
        "\n",
        "Devido a uma instabilidade no site da empresa, tivemos problemas com os nomes dos clientes durante o salvamento. Isso resultou em uma coluna de nomes de clientes com uma mistura de letras, maiúsculas e minúsculas, números e outros caracteres.\n",
        "\n",
        "Sabendo disso, manipule os textos presentes na coluna Cliente para que seja obtido como resultado os nomes dos clientes em letras minúsculas, com a ausência de caracteres especiais ou números."
      ],
      "metadata": {
        "id": "Hoa_8RrdDaKx"
      }
    },
    {
      "cell_type": "code",
      "source": [
        "dados_tratados_vendas['Cliente']"
      ],
      "metadata": {
        "id": "gHpx9HnbEfiz"
      },
      "execution_count": null,
      "outputs": []
    },
    {
      "cell_type": "code",
      "source": [
        "dados_tratados_vendas['Cliente']=dados_tratados_vendas['Cliente'].str.lower().str.replace('[^a-zã ]', '', regex=True)"
      ],
      "metadata": {
        "id": "LvuljIO5CuxY"
      },
      "execution_count": null,
      "outputs": []
    },
    {
      "cell_type": "markdown",
      "source": [
        "Projeto desafio 2: administração de condomínios\n",
        "Na etapa 2, trabalhamos na transformação dos dados numéricos. Agora, podemos trabalhar com valores textuais.\n",
        "\n",
        "Buscando explicar a organização da identificação dos apartamentos, durante a criação do conjunto de dados, foi adicionado o texto (blocoAP). Esse texto informa que os nomes dos apartamentos estão organizados com a letra do bloco seguida do número do apartamento. No entanto, isso não traz nenhuma informação para nossos dados, sendo interessante realizar a remoção desse texto no conjunto de dados.\n",
        "\n",
        "Com isso, manipule os textos na coluna apartamento para remover o texto (blocoAP) do DataFrame."
      ],
      "metadata": {
        "id": "FenldhI-FWbz"
      }
    },
    {
      "cell_type": "code",
      "source": [
        "dados_tratados_locacao['apartamento'].head()"
      ],
      "metadata": {
        "id": "4E7BE4aUFW_A"
      },
      "execution_count": null,
      "outputs": []
    },
    {
      "cell_type": "code",
      "source": [
        "dados_tratados_locacao['apartamento']=dados_tratados_locacao['apartamento'].str.replace('\\(blocoAP\\)', '', regex=True)"
      ],
      "metadata": {
        "id": "5VDDA5G-FeHx"
      },
      "execution_count": null,
      "outputs": []
    },
    {
      "cell_type": "markdown",
      "source": [
        "# Desafio 5"
      ],
      "metadata": {
        "id": "YOslCEZNaiPf"
      }
    },
    {
      "cell_type": "markdown",
      "source": [
        "Projeto desafio 1: vendas online\n",
        "Nas etapas anteriores, já trabalhamos com vários tipos de dados, agora podemos trabalhar com os dados de tempo.\n",
        "\n",
        "Na coluna Data de venda, temos datas em formato 'dia/mês/ano' (dd/mm/AAAA). Transforme esses dados para o tipo datetime e busque uma forma de visualização de subconjunto que possa contribuir no objetivo do contexto que os dados estão inseridos.\n",
        "\n",
        "Se você não lembra o problema do projeto desafio 1, vou deixar abaixo o texto da situação para facilitar o encontro da informação:\n",
        "\n",
        "O objetivo desse projeto é realizar uma análise dos resultados de um evento com os clientes de uma empresa de vendas online. Foi coletado um conjunto de dados que contém os clientes que mais gastaram com produtos dentro de 5 dias de vendas, que é o período de duração do evento. Essa análise vai identificar o cliente com a maior compra na semana, que irá receber um prêmio da loja, e posteriormente, ela pode ajudar a empresa a criar novas estratégias para atrair mais clientes."
      ],
      "metadata": {
        "id": "E7_W_Y3saug2"
      }
    },
    {
      "cell_type": "code",
      "source": [
        "dados_tratados_vendas"
      ],
      "metadata": {
        "id": "gM99accRakFe"
      },
      "execution_count": null,
      "outputs": []
    },
    {
      "cell_type": "code",
      "source": [
        "dados_tratados_vendas['Data de venda']= pd.to_datetime(dados_tratados_vendas['Data de venda'], format='%d/%m/%Y')\n",
        "dados_tratados_vendas['Data de venda']\n"
      ],
      "metadata": {
        "id": "FxnRzk0kbD2O"
      },
      "execution_count": null,
      "outputs": []
    },
    {
      "cell_type": "code",
      "source": [
        "dados_tratados_vendas.groupby(dados_tratados_vendas['Cliente'])['Valor da compra'].sum().sort_values(ascending=False)\n",
        "#descobrindo o cliente que mais gastou"
      ],
      "metadata": {
        "id": "n4Yics6SbbIo"
      },
      "execution_count": null,
      "outputs": []
    },
    {
      "cell_type": "markdown",
      "source": [
        "Projeto desafio 2: administração de condomínios\n",
        "Assim como no projeto desafio 1, trabalhamos com todas as colunas exceto as que envolvem datas.\n",
        "\n",
        "Nas colunas datas_de_pagamento e datas_combinadas_pagamento, temos datas em formato 'dia/mês/ano' (dd/mm/AAAA). Transforme esses dados para o tipo datetime e busque uma forma de visualização de subconjunto que possa contribuir no objetivo do contexto que os dados estão inseridos.\n",
        "\n",
        "Se você não lembra o problema do projeto desafio 2, vou deixar abaixo o texto da situação para facilitar o encontro da informação:\n",
        "\n",
        "A administração de condomínios é uma tarefa que requer muita atenção e organização. Entre as diversas responsabilidades da gestão está o recebimento dos aluguéis dos locatários. Para garantir uma boa saúde financeira do empreendimento, é fundamental que esses pagamentos sejam feitos de forma regular e pontual. No entanto, sabemos que nem sempre isso acontece. Pensando nisso, proponho um desafio de tratamento de dados com o objetivo de analisar o atraso no pagamento de aluguéis no condomínio fictício de alguns moradores."
      ],
      "metadata": {
        "id": "hpTDFPz4c0hI"
      }
    },
    {
      "cell_type": "code",
      "source": [
        "dados_tratados_locacao\n"
      ],
      "metadata": {
        "id": "t1m09UZtbosu"
      },
      "execution_count": null,
      "outputs": []
    },
    {
      "cell_type": "code",
      "source": [
        "dados_tratados_locacao[['datas_combinadas_pagamento','datas_de_pagamento']] = \\\n",
        "    dados_tratados_locacao[['datas_combinadas_pagamento', 'datas_de_pagamento']].applymap(lambda x: pd.to_datetime(x, format='%d/%m/%Y'))\n"
      ],
      "metadata": {
        "id": "XwNv2AYNdGfP"
      },
      "execution_count": null,
      "outputs": []
    },
    {
      "cell_type": "code",
      "source": [
        "dados_tratados_locacao.info()"
      ],
      "metadata": {
        "id": "B0ROxswYhMkB"
      },
      "execution_count": null,
      "outputs": []
    },
    {
      "cell_type": "code",
      "source": [
        "dados_tratados_locacao"
      ],
      "metadata": {
        "id": "llYC4B-5dWhm"
      },
      "execution_count": null,
      "outputs": []
    },
    {
      "cell_type": "code",
      "source": [
        "dados_tratados_locacao['atraso'] = (dados_tratados_locacao['datas_de_pagamento'] - dados_tratados_locacao['datas_combinadas_pagamento']).dt.days\n",
        "dados_tratados_locacao"
      ],
      "metadata": {
        "colab": {
          "base_uri": "https://localhost:8080/",
          "height": 990
        },
        "id": "vqr2jvhqe5PH",
        "outputId": "c322ae72-b15a-43b4-9e1f-2720e1814cef"
      },
      "execution_count": 51,
      "outputs": [
        {
          "output_type": "execute_result",
          "data": {
            "text/plain": [
              "   apartamento datas_combinadas_pagamento datas_de_pagamento  valor_aluguel  \\\n",
              "0        A101                  2022-06-01         2022-06-05         1000.0   \n",
              "1        A101                  2022-07-01         2022-07-03         2500.0   \n",
              "2        A102                  2022-06-02         2022-06-02         1100.0   \n",
              "3        A102                  2022-07-02         2022-07-06         2600.0   \n",
              "4        B201                  2022-06-03         2022-06-07         1200.0   \n",
              "5        B201                  2022-07-03         2022-07-03         2700.0   \n",
              "6        B202                  2022-06-04         2022-06-07         1300.0   \n",
              "7        B202                  2022-07-04         2022-07-05         2800.0   \n",
              "8        C301                  2022-06-05         2022-06-10         1400.0   \n",
              "9        C301                  2022-07-05         2022-07-09         2900.0   \n",
              "10       C302                  2022-06-06         2022-06-08         1500.0   \n",
              "11       C302                  2022-07-06         2022-07-12         1200.0   \n",
              "12       D401                  2022-06-07         2022-06-07         1600.0   \n",
              "13       D401                  2022-07-07         2022-07-09         1300.0   \n",
              "14       D402                  2022-06-08         2022-06-10         1700.0   \n",
              "15       D402                  2022-07-08         2022-07-14         1400.0   \n",
              "16       E501                  2022-06-09         2022-06-10         1800.0   \n",
              "17       E501                  2022-07-09         2022-07-09         1500.0   \n",
              "18       E502                  2022-06-10         2022-06-16         1900.0   \n",
              "19       E502                  2022-07-10         2022-07-12         1600.0   \n",
              "20       F601                  2022-06-11         2022-06-17         2000.0   \n",
              "21       F601                  2022-07-11         2022-07-13         1000.0   \n",
              "22       F602                  2022-06-12         2022-06-15         2100.0   \n",
              "23       F602                  2022-07-12         2022-07-12         1100.0   \n",
              "24       G701                  2022-06-13         2022-06-19         2200.0   \n",
              "25       G701                  2022-07-13         2022-07-20         1200.0   \n",
              "26       G702                  2022-06-14         2022-06-15         2300.0   \n",
              "27       G702                  2022-07-14         2022-07-17         2100.0   \n",
              "28       H801                  2022-06-15         2022-06-18         2400.0   \n",
              "29       H801                  2022-07-15         2022-07-16         2200.0   \n",
              "\n",
              "    atraso  \n",
              "0        4  \n",
              "1        2  \n",
              "2        0  \n",
              "3        4  \n",
              "4        4  \n",
              "5        0  \n",
              "6        3  \n",
              "7        1  \n",
              "8        5  \n",
              "9        4  \n",
              "10       2  \n",
              "11       6  \n",
              "12       0  \n",
              "13       2  \n",
              "14       2  \n",
              "15       6  \n",
              "16       1  \n",
              "17       0  \n",
              "18       6  \n",
              "19       2  \n",
              "20       6  \n",
              "21       2  \n",
              "22       3  \n",
              "23       0  \n",
              "24       6  \n",
              "25       7  \n",
              "26       1  \n",
              "27       3  \n",
              "28       3  \n",
              "29       1  "
            ],
            "text/html": [
              "\n",
              "  <div id=\"df-399659d1-0ff0-4379-ad3f-deb91b751cee\" class=\"colab-df-container\">\n",
              "    <div>\n",
              "<style scoped>\n",
              "    .dataframe tbody tr th:only-of-type {\n",
              "        vertical-align: middle;\n",
              "    }\n",
              "\n",
              "    .dataframe tbody tr th {\n",
              "        vertical-align: top;\n",
              "    }\n",
              "\n",
              "    .dataframe thead th {\n",
              "        text-align: right;\n",
              "    }\n",
              "</style>\n",
              "<table border=\"1\" class=\"dataframe\">\n",
              "  <thead>\n",
              "    <tr style=\"text-align: right;\">\n",
              "      <th></th>\n",
              "      <th>apartamento</th>\n",
              "      <th>datas_combinadas_pagamento</th>\n",
              "      <th>datas_de_pagamento</th>\n",
              "      <th>valor_aluguel</th>\n",
              "      <th>atraso</th>\n",
              "    </tr>\n",
              "  </thead>\n",
              "  <tbody>\n",
              "    <tr>\n",
              "      <th>0</th>\n",
              "      <td>A101</td>\n",
              "      <td>2022-06-01</td>\n",
              "      <td>2022-06-05</td>\n",
              "      <td>1000.0</td>\n",
              "      <td>4</td>\n",
              "    </tr>\n",
              "    <tr>\n",
              "      <th>1</th>\n",
              "      <td>A101</td>\n",
              "      <td>2022-07-01</td>\n",
              "      <td>2022-07-03</td>\n",
              "      <td>2500.0</td>\n",
              "      <td>2</td>\n",
              "    </tr>\n",
              "    <tr>\n",
              "      <th>2</th>\n",
              "      <td>A102</td>\n",
              "      <td>2022-06-02</td>\n",
              "      <td>2022-06-02</td>\n",
              "      <td>1100.0</td>\n",
              "      <td>0</td>\n",
              "    </tr>\n",
              "    <tr>\n",
              "      <th>3</th>\n",
              "      <td>A102</td>\n",
              "      <td>2022-07-02</td>\n",
              "      <td>2022-07-06</td>\n",
              "      <td>2600.0</td>\n",
              "      <td>4</td>\n",
              "    </tr>\n",
              "    <tr>\n",
              "      <th>4</th>\n",
              "      <td>B201</td>\n",
              "      <td>2022-06-03</td>\n",
              "      <td>2022-06-07</td>\n",
              "      <td>1200.0</td>\n",
              "      <td>4</td>\n",
              "    </tr>\n",
              "    <tr>\n",
              "      <th>5</th>\n",
              "      <td>B201</td>\n",
              "      <td>2022-07-03</td>\n",
              "      <td>2022-07-03</td>\n",
              "      <td>2700.0</td>\n",
              "      <td>0</td>\n",
              "    </tr>\n",
              "    <tr>\n",
              "      <th>6</th>\n",
              "      <td>B202</td>\n",
              "      <td>2022-06-04</td>\n",
              "      <td>2022-06-07</td>\n",
              "      <td>1300.0</td>\n",
              "      <td>3</td>\n",
              "    </tr>\n",
              "    <tr>\n",
              "      <th>7</th>\n",
              "      <td>B202</td>\n",
              "      <td>2022-07-04</td>\n",
              "      <td>2022-07-05</td>\n",
              "      <td>2800.0</td>\n",
              "      <td>1</td>\n",
              "    </tr>\n",
              "    <tr>\n",
              "      <th>8</th>\n",
              "      <td>C301</td>\n",
              "      <td>2022-06-05</td>\n",
              "      <td>2022-06-10</td>\n",
              "      <td>1400.0</td>\n",
              "      <td>5</td>\n",
              "    </tr>\n",
              "    <tr>\n",
              "      <th>9</th>\n",
              "      <td>C301</td>\n",
              "      <td>2022-07-05</td>\n",
              "      <td>2022-07-09</td>\n",
              "      <td>2900.0</td>\n",
              "      <td>4</td>\n",
              "    </tr>\n",
              "    <tr>\n",
              "      <th>10</th>\n",
              "      <td>C302</td>\n",
              "      <td>2022-06-06</td>\n",
              "      <td>2022-06-08</td>\n",
              "      <td>1500.0</td>\n",
              "      <td>2</td>\n",
              "    </tr>\n",
              "    <tr>\n",
              "      <th>11</th>\n",
              "      <td>C302</td>\n",
              "      <td>2022-07-06</td>\n",
              "      <td>2022-07-12</td>\n",
              "      <td>1200.0</td>\n",
              "      <td>6</td>\n",
              "    </tr>\n",
              "    <tr>\n",
              "      <th>12</th>\n",
              "      <td>D401</td>\n",
              "      <td>2022-06-07</td>\n",
              "      <td>2022-06-07</td>\n",
              "      <td>1600.0</td>\n",
              "      <td>0</td>\n",
              "    </tr>\n",
              "    <tr>\n",
              "      <th>13</th>\n",
              "      <td>D401</td>\n",
              "      <td>2022-07-07</td>\n",
              "      <td>2022-07-09</td>\n",
              "      <td>1300.0</td>\n",
              "      <td>2</td>\n",
              "    </tr>\n",
              "    <tr>\n",
              "      <th>14</th>\n",
              "      <td>D402</td>\n",
              "      <td>2022-06-08</td>\n",
              "      <td>2022-06-10</td>\n",
              "      <td>1700.0</td>\n",
              "      <td>2</td>\n",
              "    </tr>\n",
              "    <tr>\n",
              "      <th>15</th>\n",
              "      <td>D402</td>\n",
              "      <td>2022-07-08</td>\n",
              "      <td>2022-07-14</td>\n",
              "      <td>1400.0</td>\n",
              "      <td>6</td>\n",
              "    </tr>\n",
              "    <tr>\n",
              "      <th>16</th>\n",
              "      <td>E501</td>\n",
              "      <td>2022-06-09</td>\n",
              "      <td>2022-06-10</td>\n",
              "      <td>1800.0</td>\n",
              "      <td>1</td>\n",
              "    </tr>\n",
              "    <tr>\n",
              "      <th>17</th>\n",
              "      <td>E501</td>\n",
              "      <td>2022-07-09</td>\n",
              "      <td>2022-07-09</td>\n",
              "      <td>1500.0</td>\n",
              "      <td>0</td>\n",
              "    </tr>\n",
              "    <tr>\n",
              "      <th>18</th>\n",
              "      <td>E502</td>\n",
              "      <td>2022-06-10</td>\n",
              "      <td>2022-06-16</td>\n",
              "      <td>1900.0</td>\n",
              "      <td>6</td>\n",
              "    </tr>\n",
              "    <tr>\n",
              "      <th>19</th>\n",
              "      <td>E502</td>\n",
              "      <td>2022-07-10</td>\n",
              "      <td>2022-07-12</td>\n",
              "      <td>1600.0</td>\n",
              "      <td>2</td>\n",
              "    </tr>\n",
              "    <tr>\n",
              "      <th>20</th>\n",
              "      <td>F601</td>\n",
              "      <td>2022-06-11</td>\n",
              "      <td>2022-06-17</td>\n",
              "      <td>2000.0</td>\n",
              "      <td>6</td>\n",
              "    </tr>\n",
              "    <tr>\n",
              "      <th>21</th>\n",
              "      <td>F601</td>\n",
              "      <td>2022-07-11</td>\n",
              "      <td>2022-07-13</td>\n",
              "      <td>1000.0</td>\n",
              "      <td>2</td>\n",
              "    </tr>\n",
              "    <tr>\n",
              "      <th>22</th>\n",
              "      <td>F602</td>\n",
              "      <td>2022-06-12</td>\n",
              "      <td>2022-06-15</td>\n",
              "      <td>2100.0</td>\n",
              "      <td>3</td>\n",
              "    </tr>\n",
              "    <tr>\n",
              "      <th>23</th>\n",
              "      <td>F602</td>\n",
              "      <td>2022-07-12</td>\n",
              "      <td>2022-07-12</td>\n",
              "      <td>1100.0</td>\n",
              "      <td>0</td>\n",
              "    </tr>\n",
              "    <tr>\n",
              "      <th>24</th>\n",
              "      <td>G701</td>\n",
              "      <td>2022-06-13</td>\n",
              "      <td>2022-06-19</td>\n",
              "      <td>2200.0</td>\n",
              "      <td>6</td>\n",
              "    </tr>\n",
              "    <tr>\n",
              "      <th>25</th>\n",
              "      <td>G701</td>\n",
              "      <td>2022-07-13</td>\n",
              "      <td>2022-07-20</td>\n",
              "      <td>1200.0</td>\n",
              "      <td>7</td>\n",
              "    </tr>\n",
              "    <tr>\n",
              "      <th>26</th>\n",
              "      <td>G702</td>\n",
              "      <td>2022-06-14</td>\n",
              "      <td>2022-06-15</td>\n",
              "      <td>2300.0</td>\n",
              "      <td>1</td>\n",
              "    </tr>\n",
              "    <tr>\n",
              "      <th>27</th>\n",
              "      <td>G702</td>\n",
              "      <td>2022-07-14</td>\n",
              "      <td>2022-07-17</td>\n",
              "      <td>2100.0</td>\n",
              "      <td>3</td>\n",
              "    </tr>\n",
              "    <tr>\n",
              "      <th>28</th>\n",
              "      <td>H801</td>\n",
              "      <td>2022-06-15</td>\n",
              "      <td>2022-06-18</td>\n",
              "      <td>2400.0</td>\n",
              "      <td>3</td>\n",
              "    </tr>\n",
              "    <tr>\n",
              "      <th>29</th>\n",
              "      <td>H801</td>\n",
              "      <td>2022-07-15</td>\n",
              "      <td>2022-07-16</td>\n",
              "      <td>2200.0</td>\n",
              "      <td>1</td>\n",
              "    </tr>\n",
              "  </tbody>\n",
              "</table>\n",
              "</div>\n",
              "    <div class=\"colab-df-buttons\">\n",
              "\n",
              "  <div class=\"colab-df-container\">\n",
              "    <button class=\"colab-df-convert\" onclick=\"convertToInteractive('df-399659d1-0ff0-4379-ad3f-deb91b751cee')\"\n",
              "            title=\"Convert this dataframe to an interactive table.\"\n",
              "            style=\"display:none;\">\n",
              "\n",
              "  <svg xmlns=\"http://www.w3.org/2000/svg\" height=\"24px\" viewBox=\"0 -960 960 960\">\n",
              "    <path d=\"M120-120v-720h720v720H120Zm60-500h600v-160H180v160Zm220 220h160v-160H400v160Zm0 220h160v-160H400v160ZM180-400h160v-160H180v160Zm440 0h160v-160H620v160ZM180-180h160v-160H180v160Zm440 0h160v-160H620v160Z\"/>\n",
              "  </svg>\n",
              "    </button>\n",
              "\n",
              "  <style>\n",
              "    .colab-df-container {\n",
              "      display:flex;\n",
              "      gap: 12px;\n",
              "    }\n",
              "\n",
              "    .colab-df-convert {\n",
              "      background-color: #E8F0FE;\n",
              "      border: none;\n",
              "      border-radius: 50%;\n",
              "      cursor: pointer;\n",
              "      display: none;\n",
              "      fill: #1967D2;\n",
              "      height: 32px;\n",
              "      padding: 0 0 0 0;\n",
              "      width: 32px;\n",
              "    }\n",
              "\n",
              "    .colab-df-convert:hover {\n",
              "      background-color: #E2EBFA;\n",
              "      box-shadow: 0px 1px 2px rgba(60, 64, 67, 0.3), 0px 1px 3px 1px rgba(60, 64, 67, 0.15);\n",
              "      fill: #174EA6;\n",
              "    }\n",
              "\n",
              "    .colab-df-buttons div {\n",
              "      margin-bottom: 4px;\n",
              "    }\n",
              "\n",
              "    [theme=dark] .colab-df-convert {\n",
              "      background-color: #3B4455;\n",
              "      fill: #D2E3FC;\n",
              "    }\n",
              "\n",
              "    [theme=dark] .colab-df-convert:hover {\n",
              "      background-color: #434B5C;\n",
              "      box-shadow: 0px 1px 3px 1px rgba(0, 0, 0, 0.15);\n",
              "      filter: drop-shadow(0px 1px 2px rgba(0, 0, 0, 0.3));\n",
              "      fill: #FFFFFF;\n",
              "    }\n",
              "  </style>\n",
              "\n",
              "    <script>\n",
              "      const buttonEl =\n",
              "        document.querySelector('#df-399659d1-0ff0-4379-ad3f-deb91b751cee button.colab-df-convert');\n",
              "      buttonEl.style.display =\n",
              "        google.colab.kernel.accessAllowed ? 'block' : 'none';\n",
              "\n",
              "      async function convertToInteractive(key) {\n",
              "        const element = document.querySelector('#df-399659d1-0ff0-4379-ad3f-deb91b751cee');\n",
              "        const dataTable =\n",
              "          await google.colab.kernel.invokeFunction('convertToInteractive',\n",
              "                                                    [key], {});\n",
              "        if (!dataTable) return;\n",
              "\n",
              "        const docLinkHtml = 'Like what you see? Visit the ' +\n",
              "          '<a target=\"_blank\" href=https://colab.research.google.com/notebooks/data_table.ipynb>data table notebook</a>'\n",
              "          + ' to learn more about interactive tables.';\n",
              "        element.innerHTML = '';\n",
              "        dataTable['output_type'] = 'display_data';\n",
              "        await google.colab.output.renderOutput(dataTable, element);\n",
              "        const docLink = document.createElement('div');\n",
              "        docLink.innerHTML = docLinkHtml;\n",
              "        element.appendChild(docLink);\n",
              "      }\n",
              "    </script>\n",
              "  </div>\n",
              "\n",
              "\n",
              "    <div id=\"df-0356e11c-d233-4498-b939-f83b80758c33\">\n",
              "      <button class=\"colab-df-quickchart\" onclick=\"quickchart('df-0356e11c-d233-4498-b939-f83b80758c33')\"\n",
              "                title=\"Suggest charts\"\n",
              "                style=\"display:none;\">\n",
              "\n",
              "<svg xmlns=\"http://www.w3.org/2000/svg\" height=\"24px\"viewBox=\"0 0 24 24\"\n",
              "     width=\"24px\">\n",
              "    <g>\n",
              "        <path d=\"M19 3H5c-1.1 0-2 .9-2 2v14c0 1.1.9 2 2 2h14c1.1 0 2-.9 2-2V5c0-1.1-.9-2-2-2zM9 17H7v-7h2v7zm4 0h-2V7h2v10zm4 0h-2v-4h2v4z\"/>\n",
              "    </g>\n",
              "</svg>\n",
              "      </button>\n",
              "\n",
              "<style>\n",
              "  .colab-df-quickchart {\n",
              "      --bg-color: #E8F0FE;\n",
              "      --fill-color: #1967D2;\n",
              "      --hover-bg-color: #E2EBFA;\n",
              "      --hover-fill-color: #174EA6;\n",
              "      --disabled-fill-color: #AAA;\n",
              "      --disabled-bg-color: #DDD;\n",
              "  }\n",
              "\n",
              "  [theme=dark] .colab-df-quickchart {\n",
              "      --bg-color: #3B4455;\n",
              "      --fill-color: #D2E3FC;\n",
              "      --hover-bg-color: #434B5C;\n",
              "      --hover-fill-color: #FFFFFF;\n",
              "      --disabled-bg-color: #3B4455;\n",
              "      --disabled-fill-color: #666;\n",
              "  }\n",
              "\n",
              "  .colab-df-quickchart {\n",
              "    background-color: var(--bg-color);\n",
              "    border: none;\n",
              "    border-radius: 50%;\n",
              "    cursor: pointer;\n",
              "    display: none;\n",
              "    fill: var(--fill-color);\n",
              "    height: 32px;\n",
              "    padding: 0;\n",
              "    width: 32px;\n",
              "  }\n",
              "\n",
              "  .colab-df-quickchart:hover {\n",
              "    background-color: var(--hover-bg-color);\n",
              "    box-shadow: 0 1px 2px rgba(60, 64, 67, 0.3), 0 1px 3px 1px rgba(60, 64, 67, 0.15);\n",
              "    fill: var(--button-hover-fill-color);\n",
              "  }\n",
              "\n",
              "  .colab-df-quickchart-complete:disabled,\n",
              "  .colab-df-quickchart-complete:disabled:hover {\n",
              "    background-color: var(--disabled-bg-color);\n",
              "    fill: var(--disabled-fill-color);\n",
              "    box-shadow: none;\n",
              "  }\n",
              "\n",
              "  .colab-df-spinner {\n",
              "    border: 2px solid var(--fill-color);\n",
              "    border-color: transparent;\n",
              "    border-bottom-color: var(--fill-color);\n",
              "    animation:\n",
              "      spin 1s steps(1) infinite;\n",
              "  }\n",
              "\n",
              "  @keyframes spin {\n",
              "    0% {\n",
              "      border-color: transparent;\n",
              "      border-bottom-color: var(--fill-color);\n",
              "      border-left-color: var(--fill-color);\n",
              "    }\n",
              "    20% {\n",
              "      border-color: transparent;\n",
              "      border-left-color: var(--fill-color);\n",
              "      border-top-color: var(--fill-color);\n",
              "    }\n",
              "    30% {\n",
              "      border-color: transparent;\n",
              "      border-left-color: var(--fill-color);\n",
              "      border-top-color: var(--fill-color);\n",
              "      border-right-color: var(--fill-color);\n",
              "    }\n",
              "    40% {\n",
              "      border-color: transparent;\n",
              "      border-right-color: var(--fill-color);\n",
              "      border-top-color: var(--fill-color);\n",
              "    }\n",
              "    60% {\n",
              "      border-color: transparent;\n",
              "      border-right-color: var(--fill-color);\n",
              "    }\n",
              "    80% {\n",
              "      border-color: transparent;\n",
              "      border-right-color: var(--fill-color);\n",
              "      border-bottom-color: var(--fill-color);\n",
              "    }\n",
              "    90% {\n",
              "      border-color: transparent;\n",
              "      border-bottom-color: var(--fill-color);\n",
              "    }\n",
              "  }\n",
              "</style>\n",
              "\n",
              "      <script>\n",
              "        async function quickchart(key) {\n",
              "          const quickchartButtonEl =\n",
              "            document.querySelector('#' + key + ' button');\n",
              "          quickchartButtonEl.disabled = true;  // To prevent multiple clicks.\n",
              "          quickchartButtonEl.classList.add('colab-df-spinner');\n",
              "          try {\n",
              "            const charts = await google.colab.kernel.invokeFunction(\n",
              "                'suggestCharts', [key], {});\n",
              "          } catch (error) {\n",
              "            console.error('Error during call to suggestCharts:', error);\n",
              "          }\n",
              "          quickchartButtonEl.classList.remove('colab-df-spinner');\n",
              "          quickchartButtonEl.classList.add('colab-df-quickchart-complete');\n",
              "        }\n",
              "        (() => {\n",
              "          let quickchartButtonEl =\n",
              "            document.querySelector('#df-0356e11c-d233-4498-b939-f83b80758c33 button');\n",
              "          quickchartButtonEl.style.display =\n",
              "            google.colab.kernel.accessAllowed ? 'block' : 'none';\n",
              "        })();\n",
              "      </script>\n",
              "    </div>\n",
              "\n",
              "  <div id=\"id_bd1328ac-0321-469a-b862-f049e2dfd37e\">\n",
              "    <style>\n",
              "      .colab-df-generate {\n",
              "        background-color: #E8F0FE;\n",
              "        border: none;\n",
              "        border-radius: 50%;\n",
              "        cursor: pointer;\n",
              "        display: none;\n",
              "        fill: #1967D2;\n",
              "        height: 32px;\n",
              "        padding: 0 0 0 0;\n",
              "        width: 32px;\n",
              "      }\n",
              "\n",
              "      .colab-df-generate:hover {\n",
              "        background-color: #E2EBFA;\n",
              "        box-shadow: 0px 1px 2px rgba(60, 64, 67, 0.3), 0px 1px 3px 1px rgba(60, 64, 67, 0.15);\n",
              "        fill: #174EA6;\n",
              "      }\n",
              "\n",
              "      [theme=dark] .colab-df-generate {\n",
              "        background-color: #3B4455;\n",
              "        fill: #D2E3FC;\n",
              "      }\n",
              "\n",
              "      [theme=dark] .colab-df-generate:hover {\n",
              "        background-color: #434B5C;\n",
              "        box-shadow: 0px 1px 3px 1px rgba(0, 0, 0, 0.15);\n",
              "        filter: drop-shadow(0px 1px 2px rgba(0, 0, 0, 0.3));\n",
              "        fill: #FFFFFF;\n",
              "      }\n",
              "    </style>\n",
              "    <button class=\"colab-df-generate\" onclick=\"generateWithVariable('dados_tratados_locacao')\"\n",
              "            title=\"Generate code using this dataframe.\"\n",
              "            style=\"display:none;\">\n",
              "\n",
              "  <svg xmlns=\"http://www.w3.org/2000/svg\" height=\"24px\"viewBox=\"0 0 24 24\"\n",
              "       width=\"24px\">\n",
              "    <path d=\"M7,19H8.4L18.45,9,17,7.55,7,17.6ZM5,21V16.75L18.45,3.32a2,2,0,0,1,2.83,0l1.4,1.43a1.91,1.91,0,0,1,.58,1.4,1.91,1.91,0,0,1-.58,1.4L9.25,21ZM18.45,9,17,7.55Zm-12,3A5.31,5.31,0,0,0,4.9,8.1,5.31,5.31,0,0,0,1,6.5,5.31,5.31,0,0,0,4.9,4.9,5.31,5.31,0,0,0,6.5,1,5.31,5.31,0,0,0,8.1,4.9,5.31,5.31,0,0,0,12,6.5,5.46,5.46,0,0,0,6.5,12Z\"/>\n",
              "  </svg>\n",
              "    </button>\n",
              "    <script>\n",
              "      (() => {\n",
              "      const buttonEl =\n",
              "        document.querySelector('#id_bd1328ac-0321-469a-b862-f049e2dfd37e button.colab-df-generate');\n",
              "      buttonEl.style.display =\n",
              "        google.colab.kernel.accessAllowed ? 'block' : 'none';\n",
              "\n",
              "      buttonEl.onclick = () => {\n",
              "        google.colab.notebook.generateWithVariable('dados_tratados_locacao');\n",
              "      }\n",
              "      })();\n",
              "    </script>\n",
              "  </div>\n",
              "\n",
              "    </div>\n",
              "  </div>\n"
            ],
            "application/vnd.google.colaboratory.intrinsic+json": {
              "type": "dataframe",
              "variable_name": "dados_tratados_locacao",
              "summary": "{\n  \"name\": \"dados_tratados_locacao\",\n  \"rows\": 30,\n  \"fields\": [\n    {\n      \"column\": \"apartamento\",\n      \"properties\": {\n        \"dtype\": \"string\",\n        \"num_unique_values\": 15,\n        \"samples\": [\n          \"E502 \",\n          \"F602 \",\n          \"A101 \"\n        ],\n        \"semantic_type\": \"\",\n        \"description\": \"\"\n      }\n    },\n    {\n      \"column\": \"datas_combinadas_pagamento\",\n      \"properties\": {\n        \"dtype\": \"date\",\n        \"min\": \"2022-06-01 00:00:00\",\n        \"max\": \"2022-07-15 00:00:00\",\n        \"num_unique_values\": 30,\n        \"samples\": [\n          \"2022-07-14 00:00:00\",\n          \"2022-07-08 00:00:00\",\n          \"2022-07-12 00:00:00\"\n        ],\n        \"semantic_type\": \"\",\n        \"description\": \"\"\n      }\n    },\n    {\n      \"column\": \"datas_de_pagamento\",\n      \"properties\": {\n        \"dtype\": \"date\",\n        \"min\": \"2022-06-02 00:00:00\",\n        \"max\": \"2022-07-20 00:00:00\",\n        \"num_unique_values\": 20,\n        \"samples\": [\n          \"2022-06-05 00:00:00\",\n          \"2022-07-17 00:00:00\",\n          \"2022-06-19 00:00:00\"\n        ],\n        \"semantic_type\": \"\",\n        \"description\": \"\"\n      }\n    },\n    {\n      \"column\": \"valor_aluguel\",\n      \"properties\": {\n        \"dtype\": \"number\",\n        \"std\": 579.3773907562671,\n        \"min\": 1000.0,\n        \"max\": 2900.0,\n        \"num_unique_values\": 20,\n        \"samples\": [\n          1000.0,\n          2200.0,\n          2000.0\n        ],\n        \"semantic_type\": \"\",\n        \"description\": \"\"\n      }\n    },\n    {\n      \"column\": \"atraso\",\n      \"properties\": {\n        \"dtype\": \"number\",\n        \"std\": 2,\n        \"min\": 0,\n        \"max\": 7,\n        \"num_unique_values\": 8,\n        \"samples\": [\n          2,\n          5,\n          4\n        ],\n        \"semantic_type\": \"\",\n        \"description\": \"\"\n      }\n    }\n  ]\n}"
            }
          },
          "metadata": {},
          "execution_count": 51
        }
      ]
    },
    {
      "cell_type": "code",
      "source": [
        "media_atraso = dados_tratados_locacao.groupby(['apartamento'])['atraso'].mean()\n",
        "media_atraso"
      ],
      "metadata": {
        "colab": {
          "base_uri": "https://localhost:8080/",
          "height": 585
        },
        "id": "neEpJd1ogP9o",
        "outputId": "ae07a8fe-7d12-4bc1-9eac-1d30e67719b4"
      },
      "execution_count": 52,
      "outputs": [
        {
          "output_type": "execute_result",
          "data": {
            "text/plain": [
              "apartamento\n",
              "A101     3.0\n",
              "A102     2.0\n",
              "B201     2.0\n",
              "B202     2.0\n",
              "C301     4.5\n",
              "C302     4.0\n",
              "D401     1.0\n",
              "D402     4.0\n",
              "E501     0.5\n",
              "E502     4.0\n",
              "F601     4.0\n",
              "F602     1.5\n",
              "G701     6.5\n",
              "G702     2.0\n",
              "H801     2.0\n",
              "Name: atraso, dtype: float64"
            ],
            "text/html": [
              "<div>\n",
              "<style scoped>\n",
              "    .dataframe tbody tr th:only-of-type {\n",
              "        vertical-align: middle;\n",
              "    }\n",
              "\n",
              "    .dataframe tbody tr th {\n",
              "        vertical-align: top;\n",
              "    }\n",
              "\n",
              "    .dataframe thead th {\n",
              "        text-align: right;\n",
              "    }\n",
              "</style>\n",
              "<table border=\"1\" class=\"dataframe\">\n",
              "  <thead>\n",
              "    <tr style=\"text-align: right;\">\n",
              "      <th></th>\n",
              "      <th>atraso</th>\n",
              "    </tr>\n",
              "    <tr>\n",
              "      <th>apartamento</th>\n",
              "      <th></th>\n",
              "    </tr>\n",
              "  </thead>\n",
              "  <tbody>\n",
              "    <tr>\n",
              "      <th>A101</th>\n",
              "      <td>3.0</td>\n",
              "    </tr>\n",
              "    <tr>\n",
              "      <th>A102</th>\n",
              "      <td>2.0</td>\n",
              "    </tr>\n",
              "    <tr>\n",
              "      <th>B201</th>\n",
              "      <td>2.0</td>\n",
              "    </tr>\n",
              "    <tr>\n",
              "      <th>B202</th>\n",
              "      <td>2.0</td>\n",
              "    </tr>\n",
              "    <tr>\n",
              "      <th>C301</th>\n",
              "      <td>4.5</td>\n",
              "    </tr>\n",
              "    <tr>\n",
              "      <th>C302</th>\n",
              "      <td>4.0</td>\n",
              "    </tr>\n",
              "    <tr>\n",
              "      <th>D401</th>\n",
              "      <td>1.0</td>\n",
              "    </tr>\n",
              "    <tr>\n",
              "      <th>D402</th>\n",
              "      <td>4.0</td>\n",
              "    </tr>\n",
              "    <tr>\n",
              "      <th>E501</th>\n",
              "      <td>0.5</td>\n",
              "    </tr>\n",
              "    <tr>\n",
              "      <th>E502</th>\n",
              "      <td>4.0</td>\n",
              "    </tr>\n",
              "    <tr>\n",
              "      <th>F601</th>\n",
              "      <td>4.0</td>\n",
              "    </tr>\n",
              "    <tr>\n",
              "      <th>F602</th>\n",
              "      <td>1.5</td>\n",
              "    </tr>\n",
              "    <tr>\n",
              "      <th>G701</th>\n",
              "      <td>6.5</td>\n",
              "    </tr>\n",
              "    <tr>\n",
              "      <th>G702</th>\n",
              "      <td>2.0</td>\n",
              "    </tr>\n",
              "    <tr>\n",
              "      <th>H801</th>\n",
              "      <td>2.0</td>\n",
              "    </tr>\n",
              "  </tbody>\n",
              "</table>\n",
              "</div><br><label><b>dtype:</b> float64</label>"
            ]
          },
          "metadata": {},
          "execution_count": 52
        }
      ]
    },
    {
      "cell_type": "code",
      "source": [],
      "metadata": {
        "id": "hKiNIVVziGMf"
      },
      "execution_count": null,
      "outputs": []
    }
  ]
}